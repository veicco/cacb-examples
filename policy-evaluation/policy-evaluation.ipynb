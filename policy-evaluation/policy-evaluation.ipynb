{
 "cells": [
  {
   "cell_type": "code",
   "execution_count": 1,
   "id": "7b2c7ccf",
   "metadata": {},
   "outputs": [],
   "source": [
    "import numpy as np\n",
    "import pandas as pd\n",
    "import cacb\n",
    "from cacb.cacb import ContinuousActionContextualBanditModel\n",
    "from sklearn.ensemble import GradientBoostingRegressor\n",
    "from sklearn.linear_model import LinearRegression\n",
    "import matplotlib.pyplot as plt"
   ]
  },
  {
   "cell_type": "markdown",
   "id": "c62a4e4d",
   "metadata": {},
   "source": [
    "## Policy evaluation\n",
    "\n",
    "loss = mean abs difference between predicted cost and actual cost\n",
    "\n",
    "1. train a candidate model with the logged data (exluding a holdout set) of the existing model\n",
    "\n",
    "2. with both the current model and the candidate model, compute loss = abs(cost_pred - cost_true) for each of the examples in the holdout set\n",
    "\n",
    "3. compute the mean of the losses for both models => choose the model average whose loss is smaller"
   ]
  },
  {
   "cell_type": "code",
   "execution_count": 2,
   "id": "76c1887f",
   "metadata": {},
   "outputs": [],
   "source": [
    "def get_cost(action, context):\n",
    "    if context[0] == 0:\n",
    "        target = 5\n",
    "    else:\n",
    "        target = 8\n",
    "    return (action - (target + np.random.random())) ** 2\n",
    "\n",
    "def simulate(model, n=200, n_learn=100):\n",
    "    for i in range(n):\n",
    "        context = np.array([1])\n",
    "        if i % 7 == 0:\n",
    "            context = np.array([1])\n",
    "        else:\n",
    "            context = np.array([0])\n",
    "\n",
    "        action, prob = model.predict(context, epsilon=0.08, exploration_width=1)\n",
    "        cost = get_cost(action, context)\n",
    "\n",
    "        if i < n_learn:\n",
    "            model.learn(context, action, cost, prob)\n",
    "        else:\n",
    "            model._log_example(context, action, cost, prob)\n",
    "            \n",
    "def train(model, logged_data_df):\n",
    "    for idx, row in logged_data_df.iterrows():\n",
    "        context = row.drop([\"action\", \"cost\", \"prob\"]).values\n",
    "        action = row.action\n",
    "        cost = row.cost\n",
    "        prob = row.prob\n",
    "        model.learn(context, action, cost, prob)\n",
    "        \n",
    "def loss(model, logged_data_df):\n",
    "    diff = []\n",
    "    for idx, row in logged_data_df.iterrows():\n",
    "        action = row.action\n",
    "        context = row.drop([\"action\", \"cost\", \"prob\"]).values\n",
    "        cost_predicted = model.get_costs_per_action(context)[action]\n",
    "        cost_true = row.cost\n",
    "        diff.append(cost_true - cost_predicted)\n",
    "    return np.mean(np.abs(diff))\n",
    "\n",
    "TRAIN_SAMPLES = 100\n",
    "HOLDOUT_SAMPLES = 100"
   ]
  },
  {
   "cell_type": "code",
   "execution_count": 3,
   "id": "5b6a0663",
   "metadata": {},
   "outputs": [],
   "source": [
    "current_model = ContinuousActionContextualBanditModel(\n",
    "    min_value=0,\n",
    "    max_value=10,\n",
    "    action_width=1,\n",
    "    initial_action=0,\n",
    "    regression_model=LinearRegression(),\n",
    "    decay_rate=10\n",
    ")\n",
    "simulate(current_model, TRAIN_SAMPLES+HOLDOUT_SAMPLES, TRAIN_SAMPLES)"
   ]
  },
  {
   "cell_type": "code",
   "execution_count": 4,
   "id": "48575f91",
   "metadata": {},
   "outputs": [],
   "source": [
    "candidate_model = ContinuousActionContextualBanditModel(\n",
    "    min_value=0,\n",
    "    max_value=10,\n",
    "    action_width=1,\n",
    "    initial_action=0,\n",
    "    regression_model=GradientBoostingRegressor(),\n",
    "    decay_rate=10\n",
    ")\n",
    "train(candidate_model, current_model.get_logged_data_df().iloc[:TRAIN_SAMPLES])"
   ]
  },
  {
   "cell_type": "code",
   "execution_count": 5,
   "id": "9505cef5",
   "metadata": {},
   "outputs": [
    {
     "data": {
      "text/plain": [
       "3.8169415689830295"
      ]
     },
     "execution_count": 5,
     "metadata": {},
     "output_type": "execute_result"
    }
   ],
   "source": [
    "# holdout loss current model\n",
    "loss(current_model, current_model.get_logged_data_df().iloc[-HOLDOUT_SAMPLES:])"
   ]
  },
  {
   "cell_type": "code",
   "execution_count": 6,
   "id": "319f4837",
   "metadata": {},
   "outputs": [
    {
     "data": {
      "text/plain": [
       "2.0085212594343593"
      ]
     },
     "execution_count": 6,
     "metadata": {},
     "output_type": "execute_result"
    }
   ],
   "source": [
    "# holdout loss candidate model\n",
    "loss(candidate_model, current_model.get_logged_data_df().iloc[-HOLDOUT_SAMPLES:])"
   ]
  }
 ],
 "metadata": {
  "kernelspec": {
   "display_name": "Python 3",
   "language": "python",
   "name": "python3"
  },
  "language_info": {
   "codemirror_mode": {
    "name": "ipython",
    "version": 3
   },
   "file_extension": ".py",
   "mimetype": "text/x-python",
   "name": "python",
   "nbconvert_exporter": "python",
   "pygments_lexer": "ipython3",
   "version": "3.8.5"
  }
 },
 "nbformat": 4,
 "nbformat_minor": 5
}
